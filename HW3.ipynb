{
 "cells": [
  {
   "cell_type": "markdown",
   "metadata": {},
   "source": [
    "### Problem 2\n",
    "\n",
    "First of all, we need to define the first equipartition projection. This is done below, and tested on a simple array."
   ]
  },
  {
   "cell_type": "code",
   "execution_count": 65,
   "metadata": {},
   "outputs": [
    {
     "name": "stdout",
     "output_type": "stream",
     "text": [
      "[[[-0.24187375 -0.30187747  0.05607461 -0.0572548  -0.31970071]\n",
      "  [-0.18864677 -0.26320053  0.20785911  0.26870076  0.03315018]\n",
      "  [-0.06933159  0.01140914 -0.19087992 -0.10719917  0.27195753]\n",
      "  [ 0.6882844   0.53385319 -0.15680052  0.09312177  0.06568785]]\n",
      "\n",
      " [[ 0.45224029  0.41836677 -0.2355868  -0.0589002  -0.0786675 ]\n",
      "  [ 0.30909895 -0.1795036   0.15473263  0.25397372  0.03918144]\n",
      "  [ 0.11763217 -0.12933244 -0.11021825  0.49097409  0.08746915]\n",
      "  [-0.39809966 -0.33858738 -0.28129785 -0.18180939  0.00166719]]\n",
      "\n",
      " [[-0.27321432  0.39905904  0.32658931  0.14966694  0.01507858]\n",
      "  [-0.37340947  0.15863092 -0.04976423 -0.34277492  0.22197182]\n",
      "  [-0.01323638 -0.13272936  0.00302696 -0.09627669  0.11673475]\n",
      "  [ 0.19055612  0.02391172  0.47626496 -0.21222211 -0.25453029]]]\n"
     ]
    }
   ],
   "source": [
    "import numpy as np\n",
    "import math\n",
    "import matplotlib.pyplot as plt\n",
    "from RRR import *\n",
    "\n",
    "t = 3*4*5\n",
    "sparse = 9\n",
    "\n",
    "a = np.random.rand(3, 4, 5)\n",
    "\n",
    "\n",
    "def sumProj(tensor, target):\n",
    "    s = np.sum(tensor)\n",
    "    h = np.shape(tensor)\n",
    "    l = np.prod(h) #total # of elements in tensor\n",
    "    a = (target - s)/l\n",
    "    return tensor + (a*np.ones(h))\n",
    "\n",
    "def transposeAxes(target, length):\n",
    "    l = range(length)\n",
    "    l[target] = 0\n",
    "    l[0] = target\n",
    "    return tuple(l)\n",
    "\n",
    "def equiPartProj(tensor, target=1.0):\n",
    "    h = np.shape(tensor)\n",
    "    for i in range(len(h)):                                 #Iterate the axes\n",
    "        ax = transposeAxes(i, len(h))\n",
    "        tensor = np.transpose(tensor, ax)                   #Rotate\n",
    "        for j in range(h[i]):                               #Iterate the slices\n",
    "            tensor[j] = sumProj(tensor[j], target/h[i])     #Project\n",
    "        tensor = np.transpose(tensor, ax)                   #Rotate back\n",
    "    return tensor\n",
    "\n",
    "a = equiPartProj(a)\n",
    "\n",
    "print a\n",
    "\n"
   ]
  },
  {
   "cell_type": "markdown",
   "metadata": {},
   "source": [
    "Next, we need to write a sparsity projection routine.\n",
    "\n",
    "We will test it on the same array."
   ]
  },
  {
   "cell_type": "code",
   "execution_count": 66,
   "metadata": {},
   "outputs": [
    {
     "name": "stdout",
     "output_type": "stream",
     "text": [
      "1.40271929141\n"
     ]
    }
   ],
   "source": [
    "def sparseProj(tensor, sparsity=sparse):\n",
    "    h = np.shape(tensor)\n",
    "    t2 = tensor.reshape(np.prod(h))  #Go to one dimension\n",
    "    indeces = np.argsort(t2)\n",
    "    revIndeces = np.argsort(indeces)\n",
    "    t3 = t2[indeces]\n",
    "    t3[:-sparsity] = 0.\n",
    "    for i in range(-sparsity, 0):\n",
    "        if t3[i] < 0:\n",
    "            t3[i] = 0.\n",
    "    t2 = t3[revIndeces]\n",
    "    return np.reshape(t2, h)\n",
    "\n",
    "a = sparseProj(a)\n",
    "\n",
    "print norm(a)"
   ]
  },
  {
   "cell_type": "markdown",
   "metadata": {},
   "source": [
    "Finally, we will need to create random arrays somehow, and test the projections on them.\n",
    "\n",
    "After that, we can simply use the RRR routine and run the code.\n",
    "\n",
    "Below is the case of sparsity 8, no convergence after several runs."
   ]
  },
  {
   "cell_type": "code",
   "execution_count": 40,
   "metadata": {},
   "outputs": [
    {
     "name": "stdout",
     "output_type": "stream",
     "text": [
      "Warning: maximum iterations exceeded, no convergence\n",
      "10000\n",
      "[[[  0.           0.           0.           0.           0.        ]\n",
      "  [  0.           0.           0.           0.           4.66434277]\n",
      "  [  0.           0.           0.           0.           0.        ]\n",
      "  [  0.           0.          13.88868523   0.           0.        ]]\n",
      "\n",
      " [[  0.           0.           0.           9.88683745   0.        ]\n",
      "  [  0.          10.0770967    0.           0.           0.        ]\n",
      "  [  0.           0.           0.           0.           2.73731864]\n",
      "  [  0.           0.           0.           0.           0.        ]]\n",
      "\n",
      " [[  0.           0.           0.           0.           4.94513657]\n",
      "  [  0.           0.           0.           0.           0.        ]\n",
      "  [ 12.40666522   0.           0.           0.           0.        ]\n",
      "  [  0.           0.           0.           2.59674065   0.        ]]]\n"
     ]
    },
    {
     "data": {
      "image/png": "[encoded data removed]",
      "text/plain": [
       "<matplotlib.figure.Figure at 0x7f393bb8be90>"
      ]
     },
     "metadata": {},
     "output_type": "display_data"
    }
   ],
   "source": [
    "sparse = 8\n",
    "a = np.random.rand(3, 4, 5)\n",
    "\n",
    "b, errors = RRR(a, equiPartProj, sparseProj, 0.5, 1e-4, 10000, True)\n",
    "\n",
    "#print t*sparseProj(b)\n",
    "print len(errors)\n",
    "print t*sparseProj(equiPartProj(b))\n",
    "#plt.plot(range(len(errors)), errors)\n",
    "#plt.show()\n",
    "plt.plot([math.log(e) for e in errors])\n",
    "plt.xlabel(\"Iterations\")\n",
    "plt.ylabel(\"log Error\")\n",
    "plt.title(\"Sparsity 8, No convergence\")\n",
    "plt.show()"
   ]
  },
  {
   "cell_type": "markdown",
   "metadata": {
    "collapsed": true
   },
   "source": [
    "For 9, however, we get convergence quite easily."
   ]
  },
  {
   "cell_type": "code",
   "execution_count": 68,
   "metadata": {},
   "outputs": [
    {
     "name": "stdout",
     "output_type": "stream",
     "text": [
      "864\n",
      "[[[  0.           0.           0.           0.          10.01549548]\n",
      "  [  2.98113914   0.           0.           0.           0.        ]\n",
      "  [  0.           0.           0.           0.           0.        ]\n",
      "  [  0.           0.           0.           7.01314147   0.        ]]\n",
      "\n",
      " [[  0.           0.           0.           0.           0.        ]\n",
      "  [  0.           0.          12.01406596   0.           0.        ]\n",
      "  [  0.           5.9934663    0.           0.           0.        ]\n",
      "  [  0.           0.           0.           0.           1.98542899]]\n",
      "\n",
      " [[  0.           0.           0.           4.98392665   0.        ]\n",
      "  [  0.           0.           0.           0.           0.        ]\n",
      "  [  9.01543308   0.           0.           0.           0.        ]\n",
      "  [  0.           6.00501286   0.           0.           0.        ]]]\n"
     ]
    },
    {
     "data": {
      "image/png": "[encoded data removed]",
      "text/plain": [
       "<matplotlib.figure.Figure at 0x7f393bcae810>"
      ]
     },
     "metadata": {},
     "output_type": "display_data"
    }
   ],
   "source": [
    "sparse = 9\n",
    "\n",
    "a = np.random.rand(3, 4, 5)\n",
    "\n",
    "b, errors = RRR(a, equiPartProj, lambda x: sparseProj(x, 9), 0.5, 1e-4, 10000, True)\n",
    "\n",
    "#print t*sparseProj(b)\n",
    "print len(errors)\n",
    "print t*sparseProj(equiPartProj(b))\n",
    "#plt.plot(range(len(errors)), errors)\n",
    "#plt.show()\n",
    "plt.plot([math.log(e) for e in errors])\n",
    "plt.xlabel(\"Iterations\")\n",
    "plt.ylabel(\"log Error\")\n",
    "plt.title(\"Sparsity 9\")\n",
    "plt.show()"
   ]
  },
  {
   "cell_type": "markdown",
   "metadata": {
    "collapsed": true
   },
   "source": [
    "Now, we just format $b$ to get us the slice sizes."
   ]
  },
  {
   "cell_type": "code",
   "execution_count": 73,
   "metadata": {},
   "outputs": [
    {
     "name": "stdout",
     "output_type": "stream",
     "text": [
      "[[[  0.   0.   0.   0.  10.]\n",
      "  [  3.   0.   0.   0.   0.]\n",
      "  [  0.   0.   0.   0.   0.]\n",
      "  [  0.   0.   0.   7.   0.]]\n",
      "\n",
      " [[  0.   0.   0.   0.   0.]\n",
      "  [  0.   0.  12.   0.   0.]\n",
      "  [  0.   6.   0.   0.   0.]\n",
      "  [  0.   0.   0.   0.   2.]]\n",
      "\n",
      " [[  0.   0.   0.   5.   0.]\n",
      "  [  0.   0.   0.   0.   0.]\n",
      "  [  9.   0.   0.   0.   0.]\n",
      "  [  0.   6.   0.   0.   0.]]]\n"
     ]
    }
   ],
   "source": [
    "c = t*sparseProj(equiPartProj(b))\n",
    "\n",
    "c = np.round(c, 1)\n",
    "\n",
    "print c"
   ]
  },
  {
   "cell_type": "markdown",
   "metadata": {
    "collapsed": true
   },
   "source": [
    "Here is a more elegant way to print it, which shows whose plate each size slice goes to in each case:"
   ]
  },
  {
   "cell_type": "code",
   "execution_count": 74,
   "metadata": {},
   "outputs": [
    {
     "name": "stdout",
     "output_type": "stream",
     "text": [
      "10: (0, 0, 4)\n",
      "3: (0, 1, 0)\n",
      "7: (0, 3, 3)\n",
      "12: (1, 1, 2)\n",
      "6: (1, 2, 1)\n",
      "2: (1, 3, 4)\n",
      "5: (2, 0, 3)\n",
      "9: (2, 2, 0)\n",
      "6: (2, 3, 1)\n"
     ]
    }
   ],
   "source": [
    "for i in range(3):\n",
    "    for j in range(4):\n",
    "        for k in range(5):\n",
    "            if c[i, j, k] > 0:\n",
    "                print str(int(c[i, j, k])) + \": \" + str((i, j, k))"
   ]
  },
  {
   "cell_type": "markdown",
   "metadata": {},
   "source": [
    "That's all for problem 2!"
   ]
  },
  {
   "cell_type": "code",
   "execution_count": null,
   "metadata": {
    "collapsed": true
   },
   "outputs": [],
   "source": []
  }
 ],
 "metadata": {
  "kernelspec": {
   "display_name": "Python 2",
   "language": "python",
   "name": "python2"
  },
  "language_info": {
   "codemirror_mode": {
    "name": "ipython",
    "version": 2
   },
   "file_extension": ".py",
   "mimetype": "text/x-python",
   "name": "python",
   "nbconvert_exporter": "python",
   "pygments_lexer": "ipython2",
   "version": "2.7.14"
  }
 },
 "nbformat": 4,
 "nbformat_minor": 2
}
