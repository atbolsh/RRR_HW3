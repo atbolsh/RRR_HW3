{
 "cells": [
  {
   "cell_type": "markdown",
   "metadata": {},
   "source": [
    "### Problem 2\n",
    "\n",
    "First of all, we need to define the first equipartition projection. This is done below, and tested on a simple array."
   ]
  },
  {
   "cell_type": "code",
   "execution_count": 24,
   "metadata": {},
   "outputs": [
    {
     "name": "stdout",
     "output_type": "stream",
     "text": [
      "[[[ 0.00342669 -0.23124228 -0.22957285  0.46398499  0.24348072]\n",
      "  [-0.20655329  0.40445812 -0.26976341  0.03983618 -0.0551872 ]\n",
      "  [-0.06961032  0.20964774 -0.05209812  0.19625786  0.3922882 ]\n",
      "  [ 0.21885806 -0.18325183 -0.09350448 -0.24129899 -0.20682244]]\n",
      "\n",
      " [[ 0.462947   -0.35514694  0.42041176 -0.21998205 -0.46757468]\n",
      "  [-0.37244154  0.24850722  0.0621213   0.31493265  0.28670965]\n",
      "  [-0.31123156  0.4502531   0.19545004 -0.22305835 -0.25062949]\n",
      "  [ 0.4783962  -0.35180187 -0.01635168  0.11928833 -0.13746576]]\n",
      "\n",
      " [[ 0.04749831  0.32311473 -0.04149538 -0.32980667  0.15995665]\n",
      "  [-0.33771191 -0.3508337   0.08758526  0.2172082   0.18113247]\n",
      "  [ 0.3139203  -0.10523059 -0.25146978 -0.20798938 -0.03649965]\n",
      "  [-0.02749794  0.1415263   0.38868735  0.07062723  0.09061152]]]\n"
     ]
    }
   ],
   "source": [
    "import numpy as np\n",
    "import matplotlib.pyplot as plt\n",
    "from RRR import *\n",
    "\n",
    "t = 3*4*5\n",
    "sparse = 11\n",
    "\n",
    "a = np.random.rand(3, 4, 5)\n",
    "\n",
    "\n",
    "def sumProj(tensor, target):\n",
    "    s = np.sum(tensor)\n",
    "    h = np.shape(tensor)\n",
    "    l = np.prod(h) #total # of elements in tensor\n",
    "    a = (target - s)/l\n",
    "    return tensor + (a*np.ones(h))\n",
    "\n",
    "def transposeAxes(target, length):\n",
    "    l = range(length)\n",
    "    l[target] = 0\n",
    "    l[0] = target\n",
    "    return tuple(l)\n",
    "\n",
    "def equiPartProj(tensor, target=1.0):\n",
    "    h = np.shape(tensor)\n",
    "    for i in range(len(h)):                                 #Iterate the axes\n",
    "        ax = transposeAxes(i, len(h))\n",
    "        tensor = np.transpose(tensor, ax)                   #Rotate\n",
    "        for j in range(h[i]):                               #Iterate the slices\n",
    "            tensor[j] = sumProj(tensor[j], target/h[i])     #Project\n",
    "        tensor = np.transpose(tensor, ax)                   #Rotate back\n",
    "    return tensor\n",
    "\n",
    "a = equiPartProj(a)\n",
    "\n",
    "print a\n",
    "\n"
   ]
  },
  {
   "cell_type": "markdown",
   "metadata": {},
   "source": [
    "Next, we need to write a sparsity projection routine.\n",
    "\n",
    "We will test it on the same array."
   ]
  },
  {
   "cell_type": "code",
   "execution_count": 25,
   "metadata": {},
   "outputs": [
    {
     "name": "stdout",
     "output_type": "stream",
     "text": [
      "[[[ 0.          0.          0.          0.46398499  0.        ]\n",
      "  [ 0.          0.40445812  0.          0.          0.        ]\n",
      "  [ 0.          0.          0.          0.          0.3922882 ]\n",
      "  [ 0.          0.          0.          0.          0.        ]]\n",
      "\n",
      " [[ 0.462947    0.          0.42041176  0.          0.        ]\n",
      "  [ 0.          0.          0.          0.31493265  0.        ]\n",
      "  [ 0.          0.4502531   0.          0.          0.        ]\n",
      "  [ 0.4783962   0.          0.          0.          0.        ]]\n",
      "\n",
      " [[ 0.          0.32311473  0.          0.          0.        ]\n",
      "  [ 0.          0.          0.          0.          0.        ]\n",
      "  [ 0.3139203   0.          0.          0.          0.        ]\n",
      "  [ 0.          0.          0.38868735  0.          0.        ]]]\n"
     ]
    }
   ],
   "source": [
    "def sparseProj(tensor, sparsity=sparse):\n",
    "    h = np.shape(tensor)\n",
    "    t2 = tensor.reshape(np.prod(h))  #Go to one dimension\n",
    "    indeces = np.argsort(t2)\n",
    "    revIndeces = np.argsort(indeces)\n",
    "    t3 = t2[indeces]\n",
    "    t3[:-sparsity] = 0.\n",
    "    for i in range(-sparsity, 0):\n",
    "        if t3[i] < 0:\n",
    "            t3[i] = 0.\n",
    "    t2 = t3[revIndeces]\n",
    "    return np.reshape(t2, h)\n",
    "\n",
    "a = sparseProj(a)\n",
    "\n",
    "print a"
   ]
  },
  {
   "cell_type": "markdown",
   "metadata": {},
   "source": [
    "Finally, we will need to create random arrays somehow, and test the projections on them.\n",
    "\n",
    "After that, we can simply use the RRR routine and run the code."
   ]
  },
  {
   "cell_type": "code",
   "execution_count": 38,
   "metadata": {},
   "outputs": [
    {
     "name": "stdout",
     "output_type": "stream",
     "text": [
      "[[[  0.          19.53617158   0.           0.           0.        ]\n",
      "  [  0.           0.           0.           0.          23.84064613]\n",
      "  [  0.          19.46446777   0.           0.           0.        ]\n",
      "  [ 19.55179681   0.           0.           0.           0.        ]]\n",
      "\n",
      " [[ 19.83961433   0.           0.           0.           0.        ]\n",
      "  [  0.          23.09373511   0.           0.           0.        ]\n",
      "  [  0.           0.          17.78362315  21.72211082   0.        ]\n",
      "  [  0.           0.          36.89800957   0.           0.        ]]\n",
      "\n",
      " [[ 19.85756608   0.           0.           0.           0.        ]\n",
      "  [  0.           0.          22.10287702   0.           0.        ]\n",
      "  [  0.           0.           0.           0.           0.        ]\n",
      "  [  0.           0.           0.           0.           0.        ]]]\n"
     ]
    }
   ],
   "source": [
    "a = np.random.rand(3, 4, 5)\n",
    "\n",
    "b, errors = RRR(a, equiPartProj, sparseProj, 0.5, 1e-4, 10000, True)\n",
    "\n",
    "print t*sparseProj(b)\n",
    "#print errors[0]\n",
    "#plt.plot(range(len(errors)), errors)\n",
    "#plt.show()"
   ]
  },
  {
   "cell_type": "code",
   "execution_count": null,
   "metadata": {
    "collapsed": true
   },
   "outputs": [],
   "source": []
  },
  {
   "cell_type": "code",
   "execution_count": null,
   "metadata": {
    "collapsed": true
   },
   "outputs": [],
   "source": []
  },
  {
   "cell_type": "code",
   "execution_count": null,
   "metadata": {
    "collapsed": true
   },
   "outputs": [],
   "source": []
  },
  {
   "cell_type": "code",
   "execution_count": null,
   "metadata": {
    "collapsed": true
   },
   "outputs": [],
   "source": []
  },
  {
   "cell_type": "code",
   "execution_count": null,
   "metadata": {
    "collapsed": true
   },
   "outputs": [],
   "source": []
  }
 ],
 "metadata": {
  "kernelspec": {
   "display_name": "Python 2",
   "language": "python",
   "name": "python2"
  },
  "language_info": {
   "codemirror_mode": {
    "name": "ipython",
    "version": 2
   },
   "file_extension": ".py",
   "mimetype": "text/x-python",
   "name": "python",
   "nbconvert_exporter": "python",
   "pygments_lexer": "ipython2",
   "version": "2.7.14"
  }
 },
 "nbformat": 4,
 "nbformat_minor": 2
}
